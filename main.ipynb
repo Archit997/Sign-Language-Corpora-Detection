{
 "cells": [
  {
   "attachments": {},
   "cell_type": "markdown",
   "metadata": {},
   "source": [
    "# import dependencies"
   ]
  },
  {
   "cell_type": "code",
   "execution_count": 1,
   "metadata": {},
   "outputs": [],
   "source": [
    "from pytube import YouTube\n",
    "from pytube import Playlist\n",
    "from youtube_transcript_api import YouTubeTranscriptApi as yta\n",
    "import os \n",
    "from moviepy.editor import *"
   ]
  },
  {
   "attachments": {},
   "cell_type": "markdown",
   "metadata": {},
   "source": [
    "# Functions required for making the dataset"
   ]
  },
  {
   "cell_type": "code",
   "execution_count": 3,
   "metadata": {},
   "outputs": [],
   "source": [
    "def get_720p_video(yt):\n",
    "    '''given an object of the class Youtube, return the video with 720p in mp3 format'''\n",
    "\n",
    "    video_streams = yt.streams.filter(only_video=True, file_extension=\"mp4\", progressive=False).order_by('resolution').desc()\n",
    "    for t in video_streams:\n",
    "        if(t.resolution == \"720p\"):\n",
    "            video = t\n",
    "            break\n",
    "\n",
    "    return video"
   ]
  },
  {
   "cell_type": "code",
   "execution_count": 4,
   "metadata": {},
   "outputs": [],
   "source": [
    "def get_160kbps_audio(yt):\n",
    "    '''given an object of the class Youtube, return the audio with 160kps in webm format'''\n",
    "\n",
    "    audio_streams = yt.streams.filter(only_audio=True, file_extension=\"webm\").order_by(\"abr\").desc()\n",
    "    for t in audio_streams:\n",
    "        if(t.abr == \"160kbps\"):\n",
    "            audio = t \n",
    "            break\n",
    "\n",
    "    return audio"
   ]
  },
  {
   "cell_type": "code",
   "execution_count": 160,
   "metadata": {},
   "outputs": [],
   "source": [
    "def give_time_stamps_subclips(trans):\n",
    "    '''given a transcript : return a list containing [start, stop] for every subclip'''\n",
    "\n",
    "    # tran is a list of dictionaries with keys : 'text', 'start', 'duration'\n",
    "    ans = []\n",
    "    for item in trans:\n",
    "        start, duration = item['start'], item['duration']\n",
    "        \n",
    "        #keeping a small buffer on both sides for smooth transition\n",
    "        end = start + duration + 0.01\n",
    "        start = start - 0.01\n",
    "        temp = [start, end]\n",
    "        ans.append(temp)\n",
    "\n",
    "    return ans    "
   ]
  },
  {
   "cell_type": "code",
   "execution_count": 5,
   "metadata": {},
   "outputs": [],
   "source": [
    "def give_id(link):\n",
    "    '''gives the id of youtube link'''\n",
    "    \n",
    "    id = str(link).split(\"=\")[1]\n",
    "    return id"
   ]
  },
  {
   "cell_type": "code",
   "execution_count": 6,
   "metadata": {},
   "outputs": [],
   "source": [
    "def give_title(yt):\n",
    "    '''given a Youtube object returns the title in right format'''\n",
    "    \n",
    "    title = yt.title.replace(\"|\", \"\")\n",
    "    return title"
   ]
  },
  {
   "cell_type": "code",
   "execution_count": 167,
   "metadata": {},
   "outputs": [],
   "source": [
    "def clip(folder_path, video_path, audio_path, trans, remove_orignal=False):\n",
    "    '''\n",
    "    given the transcript makes subclips of the audio and video files,\n",
    "    which are stored at video_path and audio_path\n",
    "    then clubs them together in seperate folders in the foler_path\n",
    "    '''\n",
    "\n",
    "    time_stamps = give_time_stamps_subclips(trans)\n",
    "    input_video = VideoFileClip(video_path)\n",
    "    input_audio = AudioFileClip(audio_path)\n",
    "\n",
    "    for j, (start, stop) in enumerate(time_stamps):\n",
    "        sub_video = input_video.subclip(start, stop)\n",
    "        sub_audio = input_audio.subclip(start, stop)\n",
    "\n",
    "        sub_folder_path = os.path.join(folder_path, \"sub_\" + str(j))\n",
    "        os.makedirs(sub_folder_path)\n",
    "        sub_video_path = os.path.join(sub_folder_path, \"video.mp4\")\n",
    "        sub_audio_path = os.path.join(sub_folder_path, \"audio.mp3\")\n",
    "\n",
    "        sub_video.write_videofile(sub_video_path)\n",
    "        sub_audio.write_audiofile(sub_audio_path)\n",
    "\n",
    "    if remove_orignal:\n",
    "        os.remove(video_path)\n",
    "        os.remove(audio_path)"
   ]
  },
  {
   "attachments": {},
   "cell_type": "markdown",
   "metadata": {},
   "source": [
    "# making the dataset"
   ]
  },
  {
   "cell_type": "code",
   "execution_count": 66,
   "metadata": {},
   "outputs": [
    {
     "name": "stdout",
     "output_type": "stream",
     "text": [
      "3626\n"
     ]
    }
   ],
   "source": [
    "playlist_link = \"https://www.youtube.com/playlist?list=PLRas9Wj3fdFJc_Gm2n0wjp-GXML6dHp_L\"\n",
    "\n",
    "main_py = Playlist(playlist_link)\n",
    "print(len(main_py))"
   ]
  },
  {
   "cell_type": "code",
   "execution_count": 165,
   "metadata": {},
   "outputs": [],
   "source": [
    "len_of_dataset = 0\n",
    "num_videos_no_subtitles = 0\n",
    "num_videos_waste = 0\n",
    "num_videos_failed = 0\n",
    "\n",
    "\n",
    "os.makedirs(\"text_files\")"
   ]
  },
  {
   "attachments": {},
   "cell_type": "markdown",
   "metadata": {},
   "source": [
    "- waste_videos.txt : contains information about videos with are either age- restricted, too long or they are youtube shorts\n",
    "- no_subtitles.txt : contains information about videos with no text files\n",
    "- info_dataset.txt : info about videos which are part of the dataset\n",
    "- failed.txt : could not connect using Youtube "
   ]
  },
  {
   "cell_type": "code",
   "execution_count": null,
   "metadata": {},
   "outputs": [],
   "source": [
    "for playlist_index, video_url in enumerate(main_py):\n",
    "\n",
    "    # if playlist_index < 3500:\n",
    "    #     continue\n",
    "    # if playlist_index > 3505:\n",
    "    #     break\n",
    "\n",
    "    video_id = give_id(video_url)\n",
    "    # print(f\"j = {playlist_index}, video_url = {video_url}, video_id = {video_id}\")\n",
    "\n",
    "    try:\n",
    "\n",
    "        yt = YouTube(video_url)\n",
    "        video_title = give_title(yt)\n",
    "\n",
    "        # print(f\"title = {video_title}\")\n",
    "\n",
    "        if ((yt.age_restricted==False) and (yt.length >= 60) and (yt.length <= 1800)):\n",
    "            # if video is not age restricted and length of video is greater than 1min but less than 30min, then we will download it\n",
    "\n",
    "            # transcript : if we are able to access the transcript, then only download the video\n",
    "            try: \n",
    "                # first pref is to download the 'en-IN' transcript\n",
    "                trans = yta.get_transcript(video_id, languages=['en-IN', 'en'])\n",
    "\n",
    "                folder_path = os.path.join(\"dataset\", \"folder_\" + str(len_of_dataset))\n",
    "\n",
    "                # need to download the transcript as well\n",
    "                os.makedirs(folder_path)\n",
    "                trans_path = folder_path + \"/trans.txt\"\n",
    "                with open(trans_path, \"a\") as f: \n",
    "                    for i in trans:\n",
    "                        f.write(f\"{i}\\n\")\n",
    "\n",
    "                # Video and audio\n",
    "                video = get_720p_video(yt)\n",
    "                video_path = folder_path + f\"/{video_title}.mp4\"\n",
    "                # print(f\"video_path = {video_path}\")\n",
    "                video.download(folder_path)\n",
    "\n",
    "                audio = get_160kbps_audio(yt)\n",
    "                audio_path = folder_path + f\"/{video_title}.webm\"\n",
    "                # print(f\"audio_path = {audio_path}\")\n",
    "                audio.download(folder_path)\n",
    "\n",
    "                # now let's clip the audio and video according to the transcript\n",
    "                clip(folder_path, video_path, audio_path, trans, remove_orignal=True)\n",
    "\n",
    "                # done with the loop\n",
    "\n",
    "                # let's make a text file containing dictionary of index and url of videos stored in dataset\n",
    "                my_dict = {\"index\" : len_of_dataset, \"url\" : video_url, \"fps\" : video.fps}\n",
    "                # print(my_dict)\n",
    "                with open(\"text_files/info_dataset.txt\", \"a\") as f:\n",
    "                    f.write(f\"{my_dict}\\n\")\n",
    "\n",
    "                # increment the length\n",
    "                len_of_dataset += 1\n",
    "                \n",
    "            # there might be some videos for which the subtitles are disabled, we need to skip thoose    \n",
    "            except:\n",
    "                # for this video we don't have the subtitles : make a txt file storing information about such files\n",
    "                my_dict = {\"index\" : num_videos_no_subtitles, \"url\" : video_url}\n",
    "                with open(\"text_files/no_subtitles.txt\", \"a\") as f: \n",
    "                    f.write(f\"{my_dict}\\n\")\n",
    "\n",
    "                num_videos_no_subtitles += 1\n",
    "        \n",
    "        else: \n",
    "            # the video is either age_restricted or too_short or too_long\n",
    "            my_dict = {\"index\": num_videos_waste, \"url\" : video_url}\n",
    "            with open(\"text_files/waste_videos.txt\", \"a\") as f: \n",
    "                f.write(f\"{my_dict}\\n\")\n",
    "\n",
    "            num_videos_waste += 1\n",
    "        \n",
    "    except:\n",
    "        my_dict = {\"index\" : num_videos_failed, \"url\" : video_url}\n",
    "        with open(\"text_files/failed.txt\", \"a\") as f: \n",
    "            f.write(f\"{my_dict}\\n\")\n",
    "\n",
    "        num_videos_failed += 1\n",
    "\n",
    "    print(\"\\n\\n\")\n",
    "    print(\"-\" * 50)\n",
    "    print(\"\\n\\n\")\n",
    "\n"
   ]
  }
 ],
 "metadata": {
  "kernelspec": {
   "display_name": "venv",
   "language": "python",
   "name": "python3"
  },
  "language_info": {
   "codemirror_mode": {
    "name": "ipython",
    "version": 3
   },
   "file_extension": ".py",
   "mimetype": "text/x-python",
   "name": "python",
   "nbconvert_exporter": "python",
   "pygments_lexer": "ipython3",
   "version": "3.10.8"
  },
  "orig_nbformat": 4,
  "vscode": {
   "interpreter": {
    "hash": "92c033eed0c52275497562503b02409f702341f6d67568d14fd74411028d6458"
   }
  }
 },
 "nbformat": 4,
 "nbformat_minor": 2
}
