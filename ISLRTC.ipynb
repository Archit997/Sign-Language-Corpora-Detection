{
 "cells": [
  {
   "cell_type": "markdown",
   "id": "d1198cb3",
   "metadata": {},
   "source": [
    "#  Importing Dependencies"
   ]
  },
  {
   "cell_type": "code",
   "execution_count": 1,
   "id": "a54891d2",
   "metadata": {},
   "outputs": [],
   "source": [
    "from pytube import YouTube\n",
    "from pytube import Playlist\n",
    "from youtube_transcript_api import YouTubeTranscriptApi as yta\n",
    "import os\n",
    "from moviepy.editor import *\n",
    "from pydub import AudioSegment\n",
    "from pydub.silence import detect_nonsilent\n",
    "import ffmpeg\n",
    "import glob\n",
    "import whisper\n",
    "model=whisper.load_model(\"base\")"
   ]
  },
  {
   "cell_type": "code",
   "execution_count": 2,
   "id": "3c5fd13a",
   "metadata": {},
   "outputs": [
    {
     "name": "stdout",
     "output_type": "stream",
     "text": [
      "E:\\SIGN_LANGUAGE_CORPORA_GENERATION\\ISLTRC_DATA\\temp\n"
     ]
    }
   ],
   "source": [
    "cwdpath=os.getcwd()\n",
    "#print(cwdpath)\n",
    "Data_path=os.path.join(cwdpath,\"ISLTRC_DATA\")\n",
    "temp_path=os.path.join(Data_path,\"temp\")\n",
    "tempvid_path=os.path.join(Data_path,\"video\")\n",
    "print(temp_path)"
   ]
  },
  {
   "cell_type": "markdown",
   "id": "af9bc4cc",
   "metadata": {},
   "source": [
    "# Creating Useful Functions"
   ]
  },
  {
   "cell_type": "code",
   "execution_count": 3,
   "id": "c31676b6",
   "metadata": {},
   "outputs": [],
   "source": [
    "def get_audio_webm(video):\n",
    "    audio_streams = video.streams.filter(only_audio=True,file_extension=\"webm\").order_by(\"abr\").desc()\n",
    "    \n",
    "    audio_streams = video.streams.filter(only_audio=True, file_extension=\"webm\").order_by(\"abr\").desc()\n",
    "    for t in audio_streams:\n",
    "        if(t.abr==\"160kbps\"):\n",
    "            audio=t\n",
    "            break\n",
    "    return audio"
   ]
  },
  {
   "cell_type": "code",
   "execution_count": 4,
   "id": "4e4c187d",
   "metadata": {},
   "outputs": [],
   "source": [
    "def get_720p_video(yt):\n",
    "    '''given an object of the class Youtube, return the video with 720p in mp3 format'''\n",
    "\n",
    "    video_streams = yt.streams.filter(only_video=True, file_extension=\"mp4\", progressive=False).order_by('resolution').desc()\n",
    "    for t in video_streams:\n",
    "        if(t.resolution == \"720p\"):\n",
    "            video = t\n",
    "            break\n",
    "\n",
    "    return video"
   ]
  },
  {
   "cell_type": "code",
   "execution_count": 5,
   "id": "b5aeb475",
   "metadata": {},
   "outputs": [],
   "source": [
    "def download_audio(audio,temp_path):\n",
    "    audio.download(temp_path)"
   ]
  },
  {
   "cell_type": "code",
   "execution_count": 6,
   "id": "c37812c5",
   "metadata": {},
   "outputs": [],
   "source": [
    "def match_target_amplitude(sound, target_dBFS):\n",
    "    change_in_dBFS = target_dBFS - sound.dBFS\n",
    "    return sound.apply_gain(change_in_dBFS)"
   ]
  },
  {
   "cell_type": "code",
   "execution_count": 7,
   "id": "2726f48e",
   "metadata": {},
   "outputs": [],
   "source": [
    "def give_time_stamps_subclips(nonsilent_data):\n",
    "    \n",
    "\n",
    "    # nonsilent_Data is a list of entries of type [start,end] which denote the non silence \n",
    "    ans=[]\n",
    "    for item in nonsilent_data:\n",
    "        start=item[0]\n",
    "        end=item[1]\n",
    "        start=round(start/1000,2)\n",
    "        end=round(end/1000,2)\n",
    "        start=round(start-0.1,2)\n",
    "        end=round(end+0.1,2)\n",
    "        temp=[start,end]\n",
    "        ans.append(temp)\n",
    "    return ans"
   ]
  },
  {
   "cell_type": "code",
   "execution_count": 8,
   "id": "175e3d26",
   "metadata": {},
   "outputs": [],
   "source": [
    "def clip(folder_path, video_path, audio_path, time_stamps, remove_orignal=False):\n",
    "    '''\n",
    "    given the transcript makes subclips of the audio ,video files and \n",
    "    creates their transcript using whisper api\n",
    "    which are stored at video_path and audio_path\n",
    "    then clubs them together in seperate folders in the folder_path\n",
    "    '''\n",
    "\n",
    "    \n",
    "    input_video = VideoFileClip(video_path)\n",
    "    input_audio = AudioFileClip(audio_path)\n",
    "\n",
    "    for j, (start, stop) in enumerate(time_stamps):\n",
    "        sub_video = input_video.subclip(start, stop)\n",
    "        sub_audio = input_audio.subclip(start, stop)\n",
    "\n",
    "        sub_folder_path = os.path.join(folder_path, \"sub_\" + str(j))\n",
    "        os.makedirs(sub_folder_path)\n",
    "        sub_video_path = os.path.join(sub_folder_path, \"video.mp4\")\n",
    "        sub_audio_path = os.path.join(sub_folder_path, \"audio.mp3\")\n",
    "        sub_text_path=os.path.join(sub_folder_path,\"transcript.txt\")\n",
    "\n",
    "        sub_video.write_videofile(sub_video_path)\n",
    "        sub_audio.write_audiofile(sub_audio_path)\n",
    "        result=model.transcribe(sub_audio_path,fp16=False)\n",
    "        transcript=result['text']\n",
    "        with open(sub_text_path,\"w\") as text_file:\n",
    "            text_file.write(transcript)\n",
    "\n",
    "    if remove_orignal:\n",
    "        os.remove(video_path)\n",
    "        os.remove(audio_path)"
   ]
  },
  {
   "cell_type": "markdown",
   "id": "96f54177",
   "metadata": {},
   "source": [
    "# Selecting Youtube playlist to scrape"
   ]
  },
  {
   "cell_type": "code",
   "execution_count": 9,
   "id": "9dc57284",
   "metadata": {},
   "outputs": [],
   "source": [
    "playlist_url=\"https://www.youtube.com/playlist?list=PLFjydPMg4Daoarxj631EE2_p_3Wy6I19B\"\n",
    "playlist = Playlist(playlist_url)\n",
    "#print(list(enumerate(playlist)))"
   ]
  },
  {
   "cell_type": "code",
   "execution_count": 10,
   "id": "cfa266e9",
   "metadata": {},
   "outputs": [],
   "source": [
    "unable_to_download=[]\n",
    "unable_to_convert=[]\n",
    "unable_to_get_stamps=[]\n",
    "unable_to_clip=[]"
   ]
  },
  {
   "cell_type": "code",
   "execution_count": 11,
   "id": "8c0567a0",
   "metadata": {},
   "outputs": [
    {
     "data": {
      "text/plain": [
       "['1.mp3']"
      ]
     },
     "execution_count": 11,
     "metadata": {},
     "output_type": "execute_result"
    }
   ],
   "source": [
    "os.listdir(temp_path)"
   ]
  },
  {
   "cell_type": "code",
   "execution_count": 12,
   "id": "d9cdec30",
   "metadata": {},
   "outputs": [],
   "source": [
    "if(len(os.listdir(temp_path))!=0):\n",
    "            for filename in os.listdir(temp_path):\n",
    "                file_path = os.path.join(temp_path, filename)\n",
    "                try:\n",
    "                    if os.path.isfile(file_path) or os.path.islink(file_path):\n",
    "                        os.unlink(file_path)\n",
    "                    elif os.path.isdir(file_path):\n",
    "                        shutil.rmtree(file_path)\n",
    "                except Exception as e:\n",
    "                    print('Failed to delete %s. Reason: %s' % (file_path, e))\n",
    "if(len(os.listdir(tempvid_path))!=0):\n",
    "            for filename in os.listdir(temp_path):\n",
    "                file_path = os.path.join(temp_path, filename)\n",
    "                try:\n",
    "                    if os.path.isfile(file_path) or os.path.islink(file_path):\n",
    "                        os.unlink(file_path)\n",
    "                    elif os.path.isdir(file_path):\n",
    "                        shutil.rmtree(file_path)\n",
    "                except Exception as e:\n",
    "                    print('Failed to delete %s. Reason: %s' % (file_path, e))\n",
    "                    \n"
   ]
  },
  {
   "cell_type": "code",
   "execution_count": 13,
   "id": "21b83624",
   "metadata": {},
   "outputs": [
    {
     "data": {
      "text/plain": [
       "[]"
      ]
     },
     "execution_count": 13,
     "metadata": {},
     "output_type": "execute_result"
    }
   ],
   "source": [
    "os.listdir(temp_path)"
   ]
  },
  {
   "cell_type": "code",
   "execution_count": null,
   "id": "a9e43fc1",
   "metadata": {},
   "outputs": [],
   "source": [
    "print_progress==False\n",
    "for i,link in enumerate(playlist):\n",
    "    i+=1\n",
    "    #link=link[1]\n",
    "    \n",
    "    '''Download audio from video in .webm format'''\n",
    "    try:                                                                 \n",
    "        yt=YouTube(link)\n",
    "        video=get_720p_video(yt)\n",
    "        video.download(tempvid_path)\n",
    "        audio=get_audio_webm(yt)\n",
    "        download_audio(audio,temp_path)\n",
    "        if print_progress==True:\n",
    "            print(\"Download Succesful for video \"+str(i)+\" \\nDownload Succesful for audio \"+str(i))\n",
    "        file_name=os.listdir()[0]\n",
    "        file_name_org=file_name\n",
    "        file_path=os.path.join(temp_path,file_name)\n",
    "        dest_path=os.path.join(temp_path,str(i)+\".webm\")\n",
    "    except Exception as e:\n",
    "        print(\"Failed to download %s. Reason: %s\"%(file_name,e))\n",
    "        unable_to_download.append((i,file_name))\n",
    "        continue\n",
    "        \n",
    "    '''Rename the audio file''' \n",
    "    file_path=os.path.join(temp_path,os.listdir(temp_path)[0])\n",
    "    dest_path=0s.path.join(temp_path,str(i)+\".webm\")\n",
    "    \n",
    "    os.rename(file_path,dest_path)                                        \n",
    "    file_path=dest_path\n",
    "    dest_path=os.path.join(temp_path,str(i)+\".mp3\")\n",
    "    if print_progress==True:\n",
    "        print(\"Renaming Succesful\")\n",
    "    \n",
    "    \n",
    "    '''Convert .webm file to .mp3 file'''\n",
    "    \n",
    "    try:                                                                  \n",
    "        command=\"ffmpeg -i \"+file_path+\" \"+dest_path\n",
    "        os.system(command)\n",
    "        if print_progress==True:\n",
    "            print(\"Audio file conversion Succesful\")\n",
    "        \n",
    "    except Exception as e:\n",
    "        print(\"Failed to convert to mp3 %s. Reason %s\"%(file_name_org,e))\n",
    "        unable_to_convert.append((i,file_name_org))\n",
    "        continue\n",
    "    \n",
    "    \n",
    "    '''Detect Non_silent data in the audio'''\n",
    "    \n",
    "    try:           \n",
    "        \n",
    "        audio_segment = AudioSegment.from_mp3(dest_path)\n",
    " \n",
    "        normalized_sound = match_target_amplitude(audio_segment, -20.0)\n",
    "        \n",
    "        nonsilent_data = detect_nonsilent(normalized_sound, min_silence_len=2000, silence_thresh=-20,seek_step=1)\n",
    "        if print_progress==True:\n",
    "            print(\"Audio file analysis succesful\")\n",
    "        \n",
    "    except Exception as e:\n",
    "        print(\"Failed to get stamps %s. Reason %s\"%(file_name_org,e))\n",
    "        unable_to_get_stamps.append((i,file_name_org))\n",
    "        continue\n",
    "    \n",
    "    '''Delete the .webm file from temp directory''' \n",
    "    \n",
    "    pattern=os.path.join(temp_path,\"*.webm\")                             \n",
    "    file=glob.glob(pattern)\n",
    "    os.remove(file[0])\n",
    "    \n",
    "    \n",
    "    '''Get the timestamps for segmentation'''\n",
    "    \n",
    "    timestamps=give_time_stamps_subclips(nonsilent_data)\n",
    "    \n",
    "    '''Creating Subclip folders'''\n",
    "    \n",
    "    try:\n",
    "        folder_path=os.path.join(Data_path,\"Subclips\")\n",
    "        video_path=os.path.join(tempvid_path,os.listdir(tempvid_path)[0])\n",
    "        audio_path=os.path.join(temp_path,os.listdir(temp_path)[0])\n",
    "        clip(folder_path,video_path,audio_path,timestamps,True)\n",
    "        if print_progress==True:\n",
    "            print(\"Clippings Succesful\")\n",
    "    except Exception as e:\n",
    "        unable_to_clip.append((i,file_name_org))\n",
    "        print(\"Failed to clip video %s, Reason %s\"%(file_name_org,e))\n",
    "        continue\n",
    "        \n",
    "    \n",
    "    print(\"\\n\\n\")\n",
    "    print(\"-\"*50)\n",
    "    print(\"\\n\\n\")\n",
    "           "
   ]
  }
 ],
 "metadata": {
  "kernelspec": {
   "display_name": "Python 3 (ipykernel)",
   "language": "python",
   "name": "python3"
  },
  "language_info": {
   "codemirror_mode": {
    "name": "ipython",
    "version": 3
   },
   "file_extension": ".py",
   "mimetype": "text/x-python",
   "name": "python",
   "nbconvert_exporter": "python",
   "pygments_lexer": "ipython3",
   "version": "3.10.0"
  }
 },
 "nbformat": 4,
 "nbformat_minor": 5
}
